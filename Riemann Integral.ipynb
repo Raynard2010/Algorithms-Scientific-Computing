{
  "nbformat": 4,
  "nbformat_minor": 0,
  "metadata": {
    "colab": {
      "provenance": []
    },
    "kernelspec": {
      "name": "python3",
      "display_name": "Python 3"
    },
    "language_info": {
      "name": "python"
    }
  },
  "cells": [
    {
      "cell_type": "code",
      "execution_count": 2,
      "metadata": {
        "colab": {
          "base_uri": "https://localhost:8080/"
        },
        "id": "WbntGIb_FjDP",
        "outputId": "8643d63a-e889-4cbf-e79c-f6df32e4ea33"
      },
      "outputs": [
        {
          "output_type": "stream",
          "name": "stdout",
          "text": [
            "Titik-titik potong = [2.   2.75 3.5  4.25 5.  ]\n",
            "Left riemann: 16.40625\n",
            "Right riemann: 32.15625\n",
            "Mid riemann: 23.859375\n",
            "Trapezoid rule: 24.28125\n"
          ]
        }
      ],
      "source": [
        "# Riemann Integral\n",
        "\n",
        "import numpy as np\n",
        "\n",
        "# x ^ 2 - 5 = y\n",
        "def f(x):\n",
        "  return x ** 2 - 5\n",
        "\n",
        "a = 2\n",
        "b = 5\n",
        "n = 5 # jumlah titik\n",
        "\n",
        "# hitung lebar kotak\n",
        "# range dari b ke a, dibagi dengan jumlah kotak agar semua sama lebarnya\n",
        "lebar_kotak = (b - a) / (n - 1)\n",
        "\n",
        "x = np.linspace(a, b, n)\n",
        "print('Titik-titik potong =', x)\n",
        "# a = titik awal\n",
        "# b = titik akhir\n",
        "# n = mau dibagi menjadi berapa titik (sama rata)\n",
        "\n",
        "y = f(x)\n",
        "\n",
        "# lebar kotak dikali dengan total dari semua elemen y dari awal sampai index terakhir - 1\n",
        "left_riemann = lebar_kotak * sum(y[:n -1])\n",
        "\n",
        "right_riemann = lebar_kotak * sum(y[1:])\n",
        "\n",
        "# elemen dari index 0 sampai akhir - 1 ditambah elemen dari index 1 sampai akhir dibagi 2\n",
        "x_mid = (x[:n- 1] + x[1:]) / 2\n",
        "y_mid = f(x_mid)\n",
        "mid_point = lebar_kotak * sum(y_mid)\n",
        "\n",
        "# trapezoid\n",
        "# rumus = (a + b) * tinggi / 2\n",
        "trapezoid = lebar_kotak / 2 * (y[0] + y[n - 1] + 2 * sum(y[1:n-1]))\n",
        "\n",
        "print(f'Left riemann: {left_riemann}')\n",
        "print(f'Right riemann: {right_riemann}')\n",
        "print(f'Mid riemann: {mid_point}')\n",
        "print(f'Trapezoid rule: {trapezoid}')"
      ]
    }
  ]
}