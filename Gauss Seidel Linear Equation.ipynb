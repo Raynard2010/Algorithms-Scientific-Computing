{
  "nbformat": 4,
  "nbformat_minor": 0,
  "metadata": {
    "colab": {
      "provenance": []
    },
    "kernelspec": {
      "name": "python3",
      "display_name": "Python 3"
    },
    "language_info": {
      "name": "python"
    }
  },
  "cells": [
    {
      "cell_type": "code",
      "execution_count": 4,
      "metadata": {
        "colab": {
          "base_uri": "https://localhost:8080/"
        },
        "id": "WbntGIb_FjDP",
        "outputId": "b434b230-0978-46a6-b7ea-325fd59acf64"
      },
      "outputs": [
        {
          "output_type": "stream",
          "name": "stdout",
          "text": [
            "Root =  3.002144704261699\n"
          ]
        }
      ],
      "source": [
        "# Newton-Raphson Root Finding\n",
        "\n",
        "import numpy as np\n",
        "\n",
        "def f(x):\n",
        "  return x ** 2 - 2 * x - 3\n",
        "\n",
        "def g(x): # turunan f(x)\n",
        "  return 2 * x - 2\n",
        "\n",
        "def newton_raphson(x0, tolerance):\n",
        "  x1 = x0 - f(x0) / g(x0)\n",
        "\n",
        "  if np.abs(f(x1)) < tolerance:\n",
        "    print('Root = ', x1)\n",
        "    return\n",
        "\n",
        "  newton_raphson(x1, tolerance)\n",
        "\n",
        "newton_raphson(69, 0.015)"
      ]
    },
    {
      "cell_type": "code",
      "source": [
        "# Latihan Soal\n",
        "\n",
        "import numpy as np\n",
        "\n",
        "def f(x):\n",
        "  return x ** 6 + 2 * x ** 2 - 3\n",
        "\n",
        "def g(x):\n",
        "  return 6 * x ** 5 + 4 * x\n",
        "\n",
        "def newton_raphson(x0, max, tolerance):\n",
        "  for i in range(max):\n",
        "    x1 = x0 - f(x0) / g(x0)\n",
        "\n",
        "    print('Iterasi', i + 1, ', new root =', x1)\n",
        "\n",
        "    if np.abs(f(x1)) < tolerance:\n",
        "      break\n",
        "\n",
        "    x0 = x1\n",
        "\n",
        "  if(np.abs(f(x1)) > tolerance and i == max - 1):\n",
        "    print('Error, over max iteration')\n",
        "  else:\n",
        "    print('The root of the equation is', x1)\n",
        "\n",
        "newton_raphson(4, 15, 0.01)"
      ],
      "metadata": {
        "colab": {
          "base_uri": "https://localhost:8080/"
        },
        "id": "N6-rsjRkG4Rq",
        "outputId": "cebd79ce-7083-4be3-8e65-c0c49a9fac4e"
      },
      "execution_count": 3,
      "outputs": [
        {
          "output_type": "stream",
          "name": "stdout",
          "text": [
            "Iterasi 1 , new root = 3.330357142857143\n",
            "Iterasi 2 , new root = 2.7705278067251076\n",
            "Iterasi 3 , new root = 2.3014692834655897\n",
            "Iterasi 4 , new root = 1.9076486911265778\n",
            "Iterasi 5 , new root = 1.5780738506315775\n",
            "Iterasi 6 , new root = 1.3101344278134677\n",
            "Iterasi 7 , new root = 1.1168277838634215\n",
            "Iterasi 8 , new root = 1.0204619280744585\n",
            "Iterasi 9 , new root = 1.0006965918207418\n",
            "The root of the equation is 1.0006965918207418\n"
          ]
        }
      ]
    }
  ]
}